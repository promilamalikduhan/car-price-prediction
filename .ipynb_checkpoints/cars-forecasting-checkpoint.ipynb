{
 "cells": [
  {
   "cell_type": "markdown",
   "id": "156b8cf4",
   "metadata": {},
   "source": [
    "You have to scrape at least 5000 used cars data. You can scrape more data as well, it’s up to you. more the data better the model\n",
    "In this section You need to scrape the data of used cars from websites (Olx, cardekho, Cars24 etc.) You need web scraping for this. You have to fetch data for different locations. The number of columns for data doesn’t have limit, it’s up to you and your creativity. Generally, these columns are Brand, model, variant, manufacturing year, driven kilometers, fuel, number of owners, location and at last target variable Price of the car. This data is to give you a hint about important variables in used car model. You can make changes to it, you can add or you can remove some columns, it completely depends on the website from which you are fetching the data.\n",
    "Try to include all types of cars in your data for example- SUV, Sedans, Coupe, minivan, Hatchback."
   ]
  },
  {
   "cell_type": "code",
   "execution_count": 1,
   "id": "da33b825",
   "metadata": {},
   "outputs": [],
   "source": [
    "from urllib.request import urlopen  \n",
    "from urllib.request import Request  \n",
    "from bs4 import BeautifulSoup\n",
    "import pandas as pd\n",
    "import time\n",
    "import pandas as pd\n",
    "import warnings\n",
    "warnings.filterwarnings('ignore')\n",
    "from IPython.display import Image, HTML\n",
    "import selenium\n",
    "from selenium import webdriver\n",
    "from selenium.webdriver.common.by import By\n",
    "from selenium.common.exceptions import NoSuchElementException\n",
    "from selenium.webdriver.support import expected_conditions as EC\n",
    "from selenium.webdriver.chrome.options import Options"
   ]
  },
  {
   "cell_type": "code",
   "execution_count": null,
   "id": "89fec6f8",
   "metadata": {},
   "outputs": [],
   "source": [
    "\"110001\":\"Delhi\",\"122001\":\"Gurgaon\",\"Noida\":\"201301\",\"400001\":\"Mumbai\",\"411001\":\"Pune\",\"560001\":\"Bangluru\",\"500001\":\"Hydrabad\",\"600001\":\"Chennai\",\n",
    "         \"700001\":\"Kolkata\",\"380001\":\"Amhedabad\",\"202124\":\"Agra\",\"387315\":\"Anand\",\"392001\":\"Bharuch\",\"462001\":\"Bhopal\",\n",
    "        \"134101\":\"Chandigarh\",\"641001\":\"Coimbatore\",\"121001\":\"Faridabad\",\"201001\":\"Ghaziabad\",\"302001\":\"Jaipur\",\n",
    "         \"144001\":\"Jallandhar\",\"361001\":\"Jamnagar\",\"682001\":\"Kochi\",\"226001\":\"Lucknow\",\"141001\":\"Ludhiana\",\n",
    "        \"250001\":\"Meerut\",\"140301\":\"Mohali\",\"440001\":\"Nagpur\",\"422001\":\"Nasik\",\"132101\":\"Panipat\",\"800001\":\"Patna\"\n",
    "                                \n",
    "                                \n",
    "                                "
   ]
  },
  {
   "cell_type": "code",
   "execution_count": 25,
   "id": "11ce1edf",
   "metadata": {},
   "outputs": [
    {
     "name": "stdout",
     "output_type": "stream",
     "text": [
      "0\n",
      "0\n",
      "1\n",
      "2\n",
      "0\n",
      "0\n",
      "1\n",
      "2\n",
      "3\n",
      "4\n",
      "5\n",
      "6\n",
      "7\n",
      "8\n",
      "9\n",
      "10\n",
      "11\n",
      "12\n",
      "13\n",
      "14\n",
      "15\n",
      "16\n",
      "17\n",
      "18\n",
      "19\n",
      "20\n",
      "21\n",
      "22\n",
      "23\n",
      "0\n"
     ]
    }
   ],
   "source": [
    "Brand=[]\n",
    "Model=[]\n",
    "Varient=[]\n",
    "manufacturing_year=[]\n",
    "driven_kilometers=[]\n",
    "fuel=[]\n",
    "number_of_owners=[]\n",
    "location=[]\n",
    "Price=[]\n",
    "transmission=[]\n",
    "pinlist={\"140301\":\"Mohali\",\"440001\":\"Nagpur\",\"422001\":\"Nasik\",\"132101\":\"Panipat\",\"800001\":\"Patna\"}\n",
    "options = Options()\n",
    "options.add_argument(\"--headless\")\n",
    "driver = webdriver.Chrome()\n",
    "for key,value in pinlist.items():\n",
    "    link=\"https://www.cars24.com/buy-used-car?sort=P&storeCityId=5&pinId=\"+key\n",
    "    driver.get(link)\n",
    "    time.sleep(2)\n",
    "    lastHeight = driver.execute_script(\"return document.body.scrollHeight\")\n",
    "    z=0\n",
    "    while True:\n",
    "        print(z)\n",
    "        driver.execute_script(\"window.scrollTo(0, document.body.scrollHeight);\")\n",
    "        time.sleep(1)\n",
    "        newHeight = driver.execute_script(\"return document.body.scrollHeight\")\n",
    "        if newHeight == lastHeight:\n",
    "            break\n",
    "        lastHeight = newHeight\n",
    "        z=z+1\n",
    "    price_data=driver.find_elements(By.XPATH,'//div[@class=\"_7udZZ\"]')\n",
    "    Brand_other_data=driver.find_elements(By.XPATH,'//h2[@class=\"_3FpCg\"]')\n",
    "    variant_data=driver.find_elements(By.XPATH,'//p[@class=\"cvakB\"]')\n",
    "    transmission_data=driver.find_elements(By.XPATH,'//p[@class=\"cvakB\"]/span')\n",
    "    fuel_other_data=driver.find_elements(By.XPATH,'//ul[@class=\"bVR0c\"]')\n",
    "    i=0\n",
    "    for tags in variant_data:\n",
    "        fuel_all_data=fuel_other_data[i].text.split(\"/r\")\n",
    "        Brand.append(Brand_other_data[i].text.split(\" \")[1])\n",
    "        Model.append(Brand_other_data[i].text.split(\" \")[2])\n",
    "        Varient.append(variant_data[i].text)\n",
    "        transmission.append(transmission_data[i].text)\n",
    "        manufacturing_year.append(Brand_other_data[i].text.split(\" \")[0])\n",
    "\n",
    "        driven_kilometers.append(fuel_all_data[0].split(\"\\n\")[0])\n",
    "        fuel.append(fuel_all_data[0].split(\"\\n\")[2])\n",
    "        number_of_owners.append(fuel_all_data[0].split(\"\\n\")[1])\n",
    "        location.append(value)\n",
    "        Price.append(price_data[i].text)\n",
    "        i=i+1\n",
    "    df=pd.DataFrame({'Brand':Brand,'Model':Model,'Varient':Varient,'Mf_Year':manufacturing_year,'Kilometer':driven_kilometers,\n",
    "                        'Fuel':fuel,'Owner':number_of_owners,'Location':location,'Price':Price,'Transmission':transmission})\n",
    "\n",
    "    df \n",
    "    df.to_csv('cars.csv', mode='a', header=False)"
   ]
  },
  {
   "cell_type": "code",
   "execution_count": null,
   "id": "34e5e3e4",
   "metadata": {},
   "outputs": [],
   "source": []
  }
 ],
 "metadata": {
  "kernelspec": {
   "display_name": "Python 3 (ipykernel)",
   "language": "python",
   "name": "python3"
  },
  "language_info": {
   "codemirror_mode": {
    "name": "ipython",
    "version": 3
   },
   "file_extension": ".py",
   "mimetype": "text/x-python",
   "name": "python",
   "nbconvert_exporter": "python",
   "pygments_lexer": "ipython3",
   "version": "3.9.7"
  }
 },
 "nbformat": 4,
 "nbformat_minor": 5
}
